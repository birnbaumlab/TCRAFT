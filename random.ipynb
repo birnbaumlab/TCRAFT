{
 "cells": [
  {
   "cell_type": "code",
   "execution_count": 1,
   "id": "e0d3db7c",
   "metadata": {},
   "outputs": [],
   "source": [
    "import pandas as pd\n",
    "\n",
    "tcr_list = pd.read_csv('Sample_TCR_List.csv')\n",
    "#randomly sample 5,000 TCRs without replacement and output to a csv file\n",
    "tcr_list_sample = tcr_list.sample(n=5000, replace=False)\n",
    "tcr_list_sample.to_csv('Sample_TCR_List_Sample.csv', index=False)"
   ]
  }
 ],
 "metadata": {
  "kernelspec": {
   "display_name": "datasci_env",
   "language": "python",
   "name": "python3"
  },
  "language_info": {
   "codemirror_mode": {
    "name": "ipython",
    "version": 3
   },
   "file_extension": ".py",
   "mimetype": "text/x-python",
   "name": "python",
   "nbconvert_exporter": "python",
   "pygments_lexer": "ipython3",
   "version": "3.11.6"
  }
 },
 "nbformat": 4,
 "nbformat_minor": 5
}
